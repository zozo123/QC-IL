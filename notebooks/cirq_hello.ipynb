{
  "nbformat": 4,
  "nbformat_minor": 0,
  "metadata": {
    "colab": {
      "name": "cirq-hello.ipynb",
      "provenance": [],
      "collapsed_sections": [],
      "authorship_tag": "ABX9TyNzmKrqL9oDIGB4kIbYgW2J",
      "include_colab_link": true
    },
    "kernelspec": {
      "name": "python3",
      "display_name": "Python 3"
    }
  },
  "cells": [
    {
      "cell_type": "markdown",
      "metadata": {
        "id": "view-in-github",
        "colab_type": "text"
      },
      "source": [
        "<a href=\"https://colab.research.google.com/github/zozo123/QC-IL/blob/master/notebooks/cirq_hello.ipynb\" target=\"_parent\"><img src=\"https://colab.research.google.com/assets/colab-badge.svg\" alt=\"Open In Colab\"/></a>"
      ]
    },
    {
      "cell_type": "code",
      "metadata": {
        "id": "LzMMcE7BGt6H",
        "colab_type": "code",
        "colab": {
          "base_uri": "https://localhost:8080/",
          "height": 1000
        },
        "outputId": "5a8a0823-cfff-46f0-ed52-dbd3fe387509"
      },
      "source": [
        "!pip install cirq"
      ],
      "execution_count": 2,
      "outputs": [
        {
          "output_type": "stream",
          "text": [
            "Collecting cirq\n",
            "\u001b[?25l  Downloading https://files.pythonhosted.org/packages/53/29/a66c4c28306dae359745e37c4c10120e477da44cb050d06d8ceb1117a22a/cirq-0.7.0-py3-none-any.whl (1.2MB)\n",
            "\u001b[K     |████████████████████████████████| 1.2MB 4.9MB/s \n",
            "\u001b[?25hCollecting protobuf==3.8.0\n",
            "\u001b[?25l  Downloading https://files.pythonhosted.org/packages/d2/fb/29de8d08967f0cce1bb10b39846d836b0f3bf6776ddc36aed7c73498ca7e/protobuf-3.8.0-cp36-cp36m-manylinux1_x86_64.whl (1.2MB)\n",
            "\u001b[K     |████████████████████████████████| 1.2MB 59.0MB/s \n",
            "\u001b[?25hRequirement already satisfied: dataclasses; python_version < \"3.7\" in /usr/local/lib/python3.6/dist-packages (from cirq) (0.7)\n",
            "Requirement already satisfied: matplotlib~=3.0 in /usr/local/lib/python3.6/dist-packages (from cirq) (3.1.3)\n",
            "Requirement already satisfied: scipy in /usr/local/lib/python3.6/dist-packages (from cirq) (1.4.1)\n",
            "Requirement already satisfied: requests~=2.18 in /usr/local/lib/python3.6/dist-packages (from cirq) (2.21.0)\n",
            "Requirement already satisfied: google-api-python-client~=1.6 in /usr/local/lib/python3.6/dist-packages (from cirq) (1.7.11)\n",
            "Collecting networkx==2.3\n",
            "\u001b[?25l  Downloading https://files.pythonhosted.org/packages/85/08/f20aef11d4c343b557e5de6b9548761811eb16e438cee3d32b1c66c8566b/networkx-2.3.zip (1.7MB)\n",
            "\u001b[K     |████████████████████████████████| 1.8MB 54.5MB/s \n",
            "\u001b[?25hCollecting sympy==1.4\n",
            "\u001b[?25l  Downloading https://files.pythonhosted.org/packages/21/21/f4105795ca7f35c541d82c5b06be684dd2f5cb4f508fb487cd7aea4de776/sympy-1.4-py2.py3-none-any.whl (5.3MB)\n",
            "\u001b[K     |████████████████████████████████| 5.3MB 50.1MB/s \n",
            "\u001b[?25hRequirement already satisfied: sortedcontainers~=2.0 in /usr/local/lib/python3.6/dist-packages (from cirq) (2.1.0)\n",
            "Requirement already satisfied: pandas in /usr/local/lib/python3.6/dist-packages (from cirq) (0.25.3)\n",
            "Requirement already satisfied: typing-extensions in /usr/local/lib/python3.6/dist-packages (from cirq) (3.6.6)\n",
            "Requirement already satisfied: numpy~=1.16 in /usr/local/lib/python3.6/dist-packages (from cirq) (1.17.5)\n",
            "Requirement already satisfied: setuptools in /usr/local/lib/python3.6/dist-packages (from protobuf==3.8.0->cirq) (45.2.0)\n",
            "Requirement already satisfied: six>=1.9 in /usr/local/lib/python3.6/dist-packages (from protobuf==3.8.0->cirq) (1.12.0)\n",
            "Requirement already satisfied: python-dateutil>=2.1 in /usr/local/lib/python3.6/dist-packages (from matplotlib~=3.0->cirq) (2.6.1)\n",
            "Requirement already satisfied: kiwisolver>=1.0.1 in /usr/local/lib/python3.6/dist-packages (from matplotlib~=3.0->cirq) (1.1.0)\n",
            "Requirement already satisfied: pyparsing!=2.0.4,!=2.1.2,!=2.1.6,>=2.0.1 in /usr/local/lib/python3.6/dist-packages (from matplotlib~=3.0->cirq) (2.4.6)\n",
            "Requirement already satisfied: cycler>=0.10 in /usr/local/lib/python3.6/dist-packages (from matplotlib~=3.0->cirq) (0.10.0)\n",
            "Requirement already satisfied: certifi>=2017.4.17 in /usr/local/lib/python3.6/dist-packages (from requests~=2.18->cirq) (2019.11.28)\n",
            "Requirement already satisfied: urllib3<1.25,>=1.21.1 in /usr/local/lib/python3.6/dist-packages (from requests~=2.18->cirq) (1.24.3)\n",
            "Requirement already satisfied: chardet<3.1.0,>=3.0.2 in /usr/local/lib/python3.6/dist-packages (from requests~=2.18->cirq) (3.0.4)\n",
            "Requirement already satisfied: idna<2.9,>=2.5 in /usr/local/lib/python3.6/dist-packages (from requests~=2.18->cirq) (2.8)\n",
            "Requirement already satisfied: httplib2<1dev,>=0.9.2 in /usr/local/lib/python3.6/dist-packages (from google-api-python-client~=1.6->cirq) (0.11.3)\n",
            "Requirement already satisfied: google-auth>=1.4.1 in /usr/local/lib/python3.6/dist-packages (from google-api-python-client~=1.6->cirq) (1.7.2)\n",
            "Requirement already satisfied: google-auth-httplib2>=0.0.3 in /usr/local/lib/python3.6/dist-packages (from google-api-python-client~=1.6->cirq) (0.0.3)\n",
            "Requirement already satisfied: uritemplate<4dev,>=3.0.0 in /usr/local/lib/python3.6/dist-packages (from google-api-python-client~=1.6->cirq) (3.0.1)\n",
            "Requirement already satisfied: decorator>=4.3.0 in /usr/local/lib/python3.6/dist-packages (from networkx==2.3->cirq) (4.4.1)\n",
            "Requirement already satisfied: mpmath>=0.19 in /usr/local/lib/python3.6/dist-packages (from sympy==1.4->cirq) (1.1.0)\n",
            "Requirement already satisfied: pytz>=2017.2 in /usr/local/lib/python3.6/dist-packages (from pandas->cirq) (2018.9)\n",
            "Requirement already satisfied: pyasn1-modules>=0.2.1 in /usr/local/lib/python3.6/dist-packages (from google-auth>=1.4.1->google-api-python-client~=1.6->cirq) (0.2.8)\n",
            "Requirement already satisfied: cachetools<3.2,>=2.0.0 in /usr/local/lib/python3.6/dist-packages (from google-auth>=1.4.1->google-api-python-client~=1.6->cirq) (3.1.1)\n",
            "Requirement already satisfied: rsa<4.1,>=3.1.4 in /usr/local/lib/python3.6/dist-packages (from google-auth>=1.4.1->google-api-python-client~=1.6->cirq) (4.0)\n",
            "Requirement already satisfied: pyasn1<0.5.0,>=0.4.6 in /usr/local/lib/python3.6/dist-packages (from pyasn1-modules>=0.2.1->google-auth>=1.4.1->google-api-python-client~=1.6->cirq) (0.4.8)\n",
            "Building wheels for collected packages: networkx\n",
            "  Building wheel for networkx (setup.py) ... \u001b[?25l\u001b[?25hdone\n",
            "  Created wheel for networkx: filename=networkx-2.3-py2.py3-none-any.whl size=1556408 sha256=d3ee3c13ca251200746c137efef35eece519c8d2c69901baac916d558d4f4142\n",
            "  Stored in directory: /root/.cache/pip/wheels/de/63/64/3699be2a9d0ccdb37c7f16329acf3863fd76eda58c39c737af\n",
            "Successfully built networkx\n",
            "\u001b[31mERROR: albumentations 0.1.12 has requirement imgaug<0.2.7,>=0.2.5, but you'll have imgaug 0.2.9 which is incompatible.\u001b[0m\n",
            "Installing collected packages: protobuf, networkx, sympy, cirq\n",
            "  Found existing installation: protobuf 3.10.0\n",
            "    Uninstalling protobuf-3.10.0:\n",
            "      Successfully uninstalled protobuf-3.10.0\n",
            "  Found existing installation: networkx 2.4\n",
            "    Uninstalling networkx-2.4:\n",
            "      Successfully uninstalled networkx-2.4\n",
            "  Found existing installation: sympy 1.1.1\n",
            "    Uninstalling sympy-1.1.1:\n",
            "      Successfully uninstalled sympy-1.1.1\n",
            "Successfully installed cirq-0.7.0 networkx-2.3 protobuf-3.8.0 sympy-1.4\n"
          ],
          "name": "stdout"
        },
        {
          "output_type": "display_data",
          "data": {
            "application/vnd.colab-display-data+json": {
              "pip_warning": {
                "packages": [
                  "google"
                ]
              }
            }
          },
          "metadata": {
            "tags": []
          }
        }
      ]
    },
    {
      "cell_type": "code",
      "metadata": {
        "id": "q5YN0yNOGlCK",
        "colab_type": "code",
        "colab": {}
      },
      "source": [
        "import cirq"
      ],
      "execution_count": 0,
      "outputs": []
    },
    {
      "cell_type": "code",
      "metadata": {
        "id": "NA0BvdHiHGBU",
        "colab_type": "code",
        "colab": {
          "base_uri": "https://localhost:8080/",
          "height": 121
        },
        "outputId": "eff276da-7aae-4d74-e35e-c3c358c3e417"
      },
      "source": [
        "# ref: https://colab.research.google.com/drive/1LHTDuIsb0mwVlEqbyrQ8K1rKdK6fFV7v\n",
        "# Here I'm defining a utility function to print circuits nicely using an svg\n",
        "from cirq.contrib.svg import circuit_to_svg\n",
        "from IPython.display import SVG, display\n",
        "import os\n",
        "\n",
        "q0, q1 = cirq.GridQubit.rect(1, 2)\n",
        "my_circuit = cirq.Circuit(cirq.H(q0), cirq.CNOT(q0, q1))\n",
        "\n",
        "def circuit_print(circuit):\n",
        "  \"\"\"Convert the cirq.Circuit to a temp svg and display + garbage collect.\"\"\"\n",
        "  with open(\"temp.svg\", 'w+') as f:\n",
        "    f.write(circuit_to_svg(circuit))\n",
        "  display(SVG('temp.svg'))\n",
        "  os.remove('temp.svg')\n",
        "\n",
        "# Now we can use the above-defined function anywhere in the notebook\n",
        "circuit_print(my_circuit)"
      ],
      "execution_count": 8,
      "outputs": [
        {
          "output_type": "display_data",
          "data": {
            "text/plain": [
              "<IPython.core.display.SVG object>"
            ],
            "image/svg+xml": "<svg height=\"100.0\" width=\"229.517734375\" xmlns=\"http://www.w3.org/2000/svg\"><line stroke=\"#1967d2\" stroke-width=\"1\" x1=\"34.7588671875\" x2=\"199.517734375\" y1=\"25.0\" y2=\"25.0\"/><line stroke=\"#1967d2\" stroke-width=\"1\" x1=\"34.7588671875\" x2=\"199.517734375\" y1=\"75.0\" y2=\"75.0\"/><line stroke=\"black\" stroke-width=\"3\" x1=\"159.517734375\" x2=\"159.517734375\" y1=\"25.0\" y2=\"75.0\"/><rect fill=\"white\" height=\"40\" stroke=\"black\" stroke-width=\"0\" width=\"49.517734375\" x=\"10.0\" y=\"5.0\"/><text dominant-baseline=\"middle\" font-size=\"14px\" text-anchor=\"middle\" x=\"34.7588671875\" y=\"25.0\">(0, 0): </text><rect fill=\"white\" height=\"40\" stroke=\"black\" stroke-width=\"0\" width=\"49.517734375\" x=\"10.0\" y=\"55.0\"/><text dominant-baseline=\"middle\" font-size=\"14px\" text-anchor=\"middle\" x=\"34.7588671875\" y=\"75.0\">(0, 1): </text><rect fill=\"white\" height=\"40\" stroke=\"black\" stroke-width=\"1\" width=\"40\" x=\"79.517734375\" y=\"5.0\"/><text dominant-baseline=\"middle\" font-size=\"18px\" text-anchor=\"middle\" x=\"99.517734375\" y=\"25.0\">H</text><circle cx=\"159.517734375\" cy=\"25.0\" r=\"10.0\"/><rect fill=\"white\" height=\"40\" stroke=\"black\" stroke-width=\"1\" width=\"40\" x=\"139.517734375\" y=\"55.0\"/><text dominant-baseline=\"middle\" font-size=\"18px\" text-anchor=\"middle\" x=\"159.517734375\" y=\"75.0\">X</text></svg>"
          },
          "metadata": {
            "tags": []
          }
        }
      ]
    },
    {
      "cell_type": "code",
      "metadata": {
        "id": "R3hctdAtGp3L",
        "colab_type": "code",
        "colab": {
          "base_uri": "https://localhost:8080/",
          "height": 119
        },
        "outputId": "29b3f8ec-92b2-46fe-c7f6-62dd2ea058db"
      },
      "source": [
        "from cirq.contrib import qcircuit \n",
        "# Colab doesn't support inline LaTeX compilation, but you can copy and paste\n",
        "# the printed LaTeX code to run on your own machine. Follow these instructions:\n",
        "# http://physics.unm.edu/CQuIC/Qcircuit/Qtutorial.pdf\n",
        "print(qcircuit.circuit_to_latex_using_qcircuit(my_circuit))"
      ],
      "execution_count": 9,
      "outputs": [
        {
          "output_type": "stream",
          "text": [
            "\\Qcircuit @R=1em @C=0.75em {\n",
            " \\\\\n",
            " &\\lstick{\\text{(0, 0)}}& \\qw&\\gate{\\text{H}} \\qw&\\control \\qw    &\\qw\\\\\n",
            " &\\lstick{\\text{(0, 1)}}& \\qw&                \\qw&\\targ    \\qw\\qwx&\\qw\\\\\n",
            " \\\\\n",
            "}\n"
          ],
          "name": "stdout"
        }
      ]
    },
    {
      "cell_type": "code",
      "metadata": {
        "id": "644NzZaoHC8g",
        "colab_type": "code",
        "colab": {}
      },
      "source": [
        ""
      ],
      "execution_count": 0,
      "outputs": []
    }
  ]
}